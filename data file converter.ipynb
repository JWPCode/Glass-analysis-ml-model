{
 "cells": [
  {
   "cell_type": "code",
   "execution_count": 2,
   "metadata": {},
   "outputs": [
    {
     "name": "stdout",
     "output_type": "stream",
     "text": [
      "{'uci_id': 42, 'name': 'Glass Identification', 'repository_url': 'https://archive.ics.uci.edu/dataset/42/glass+identification', 'data_url': 'https://archive.ics.uci.edu/static/public/42/data.csv', 'abstract': 'From USA Forensic Science Service; 6 types of glass; defined in terms of their oxide content (i.e. Na, Fe, K, etc)', 'area': 'Physics and Chemistry', 'tasks': ['Classification'], 'characteristics': ['Multivariate'], 'num_instances': 214, 'num_features': 9, 'feature_types': ['Real'], 'demographics': [], 'target_col': ['Type_of_glass'], 'index_col': ['Id_number'], 'has_missing_values': 'no', 'missing_values_symbol': None, 'year_of_dataset_creation': 1987, 'last_updated': 'Thu Aug 10 2023', 'dataset_doi': '10.24432/C5WW2P', 'creators': ['B. German'], 'intro_paper': None, 'additional_info': {'summary': 'Vina conducted a comparison test of her rule-based system, BEAGLE, the nearest-neighbor algorithm, and discriminant analysis.  BEAGLE is a product available through VRS Consulting, Inc.; 4676 Admiralty Way, Suite 206; Marina Del Ray, CA 90292 (213) 827-7890 and FAX: -3189. In determining whether the glass was a type of \"float\" glass or not, the following results were obtained (# incorrect answers):\\r\\n\\r\\nType of Sample  -- Beagle -- NN -- DA\\r\\nWindows that were float processed (87)  -- 10 -- 12 -- 21\\r\\nWindows that were not:            (76) -- 19 -- 16 -- 22\\r\\n\\r\\nThe study of classification of types of glass was motivated by criminological investigation.  At the scene of the crime, the glass left can be used as evidence...if it is correctly identified!', 'purpose': None, 'funded_by': None, 'instances_represent': None, 'recommended_data_splits': None, 'sensitive_data': None, 'preprocessing_description': None, 'variable_info': '1. Id number: 1 to 214\\r\\n2. RI: refractive index\\r\\n3. Na: Sodium (unit measurement: weight percent in corresponding oxide, as are attributes 4-10)\\r\\n4. Mg: Magnesium\\r\\n5. Al: Aluminum\\r\\n6. Si: Silicon\\r\\n7. K: Potassium\\r\\n8. Ca: Calcium\\r\\n9. Ba: Barium\\r\\n10. Fe: Iron\\r\\n11. Type of glass: (class attribute)\\r\\n     -- 1 building_windows_float_processed\\r\\n     -- 2 building_windows_non_float_processed\\r\\n     -- 3 vehicle_windows_float_processed\\r\\n     -- 4 vehicle_windows_non_float_processed (none in this database)\\r\\n     -- 5 containers\\r\\n     -- 6 tableware\\r\\n     -- 7 headlamps', 'citation': None}}\n",
      "             name     role         type demographic       description  \\\n",
      "0       Id_number       ID      Integer        None              None   \n",
      "1              RI  Feature   Continuous        None  refractive index   \n",
      "2              Na  Feature   Continuous        None            Sodium   \n",
      "3              Mg  Feature   Continuous        None         Magnesium   \n",
      "4              Al  Feature   Continuous        None          Aluminum   \n",
      "5              Si  Feature   Continuous        None           Silicon   \n",
      "6               K  Feature   Continuous        None         Potassium   \n",
      "7              Ca  Feature   Continuous        None           Calcium   \n",
      "8              Ba  Feature   Continuous        None            Barium   \n",
      "9              Fe  Feature   Continuous        None              Iron   \n",
      "10  Type_of_glass   Target  Categorical        None              None   \n",
      "\n",
      "                                    units missing_values  \n",
      "0                                    None             no  \n",
      "1                                    None             no  \n",
      "2   weight percent in corresponding oxide             no  \n",
      "3   weight percent in corresponding oxide             no  \n",
      "4   weight percent in corresponding oxide             no  \n",
      "5   weight percent in corresponding oxide             no  \n",
      "6   weight percent in corresponding oxide             no  \n",
      "7   weight percent in corresponding oxide             no  \n",
      "8   weight percent in corresponding oxide             no  \n",
      "9   weight percent in corresponding oxide             no  \n",
      "10                                   None             no  \n"
     ]
    }
   ],
   "source": [
    "from ucimlrepo import fetch_ucirepo \n",
    "  \n",
    "# fetch dataset \n",
    "glass_identification = fetch_ucirepo(id=42) \n",
    "  \n",
    "# data (as pandas dataframes) \n",
    "X = glass_identification.data.features \n",
    "y = glass_identification.data.targets \n",
    "  \n",
    "# metadata \n",
    "print(glass_identification.metadata) \n",
    "  \n",
    "# variable information \n",
    "print(glass_identification.variables) "
   ]
  },
  {
   "cell_type": "code",
   "execution_count": 7,
   "metadata": {},
   "outputs": [
    {
     "name": "stdout",
     "output_type": "stream",
     "text": [
      "\n",
      "CSV String:\n",
      " None\n"
     ]
    }
   ],
   "source": [
    "X\n",
    "gfg_csv_data = X.to_csv('features.csv', index = True) \n",
    "print('\\nCSV String:\\n', gfg_csv_data) "
   ]
  },
  {
   "cell_type": "code",
   "execution_count": 8,
   "metadata": {},
   "outputs": [
    {
     "name": "stdout",
     "output_type": "stream",
     "text": [
      "\n",
      "CSV String:\n",
      " None\n"
     ]
    }
   ],
   "source": [
    "y\n",
    "gfg_csv_data = y.to_csv('clasification.csv', index = True) \n",
    "print('\\nCSV String:\\n', gfg_csv_data) "
   ]
  },
  {
   "cell_type": "code",
   "execution_count": 5,
   "metadata": {},
   "outputs": [
    {
     "data": {
      "text/plain": [
       "{'data': {'ids':      Id_number\n",
       "  0            1\n",
       "  1            2\n",
       "  2            3\n",
       "  3            4\n",
       "  4            5\n",
       "  ..         ...\n",
       "  209        210\n",
       "  210        211\n",
       "  211        212\n",
       "  212        213\n",
       "  213        214\n",
       "  \n",
       "  [214 rows x 1 columns],\n",
       "  'features':           RI     Na    Mg    Al     Si     K    Ca    Ba   Fe\n",
       "  0    1.52101  13.64  4.49  1.10  71.78  0.06  8.75  0.00  0.0\n",
       "  1    1.51761  13.89  3.60  1.36  72.73  0.48  7.83  0.00  0.0\n",
       "  2    1.51618  13.53  3.55  1.54  72.99  0.39  7.78  0.00  0.0\n",
       "  3    1.51766  13.21  3.69  1.29  72.61  0.57  8.22  0.00  0.0\n",
       "  4    1.51742  13.27  3.62  1.24  73.08  0.55  8.07  0.00  0.0\n",
       "  ..       ...    ...   ...   ...    ...   ...   ...   ...  ...\n",
       "  209  1.51623  14.14  0.00  2.88  72.61  0.08  9.18  1.06  0.0\n",
       "  210  1.51685  14.92  0.00  1.99  73.06  0.00  8.40  1.59  0.0\n",
       "  211  1.52065  14.36  0.00  2.02  73.42  0.00  8.44  1.64  0.0\n",
       "  212  1.51651  14.38  0.00  1.94  73.61  0.00  8.48  1.57  0.0\n",
       "  213  1.51711  14.23  0.00  2.08  73.36  0.00  8.62  1.67  0.0\n",
       "  \n",
       "  [214 rows x 9 columns],\n",
       "  'targets':      Type_of_glass\n",
       "  0                1\n",
       "  1                1\n",
       "  2                1\n",
       "  3                1\n",
       "  4                1\n",
       "  ..             ...\n",
       "  209              7\n",
       "  210              7\n",
       "  211              7\n",
       "  212              7\n",
       "  213              7\n",
       "  \n",
       "  [214 rows x 1 columns],\n",
       "  'original':      Id_number       RI     Na    Mg    Al     Si     K    Ca    Ba   Fe  \\\n",
       "  0            1  1.52101  13.64  4.49  1.10  71.78  0.06  8.75  0.00  0.0   \n",
       "  1            2  1.51761  13.89  3.60  1.36  72.73  0.48  7.83  0.00  0.0   \n",
       "  2            3  1.51618  13.53  3.55  1.54  72.99  0.39  7.78  0.00  0.0   \n",
       "  3            4  1.51766  13.21  3.69  1.29  72.61  0.57  8.22  0.00  0.0   \n",
       "  4            5  1.51742  13.27  3.62  1.24  73.08  0.55  8.07  0.00  0.0   \n",
       "  ..         ...      ...    ...   ...   ...    ...   ...   ...   ...  ...   \n",
       "  209        210  1.51623  14.14  0.00  2.88  72.61  0.08  9.18  1.06  0.0   \n",
       "  210        211  1.51685  14.92  0.00  1.99  73.06  0.00  8.40  1.59  0.0   \n",
       "  211        212  1.52065  14.36  0.00  2.02  73.42  0.00  8.44  1.64  0.0   \n",
       "  212        213  1.51651  14.38  0.00  1.94  73.61  0.00  8.48  1.57  0.0   \n",
       "  213        214  1.51711  14.23  0.00  2.08  73.36  0.00  8.62  1.67  0.0   \n",
       "  \n",
       "       Type_of_glass  \n",
       "  0                1  \n",
       "  1                1  \n",
       "  2                1  \n",
       "  3                1  \n",
       "  4                1  \n",
       "  ..             ...  \n",
       "  209              7  \n",
       "  210              7  \n",
       "  211              7  \n",
       "  212              7  \n",
       "  213              7  \n",
       "  \n",
       "  [214 rows x 11 columns],\n",
       "  'headers': Index(['Id_number', 'RI', 'Na', 'Mg', 'Al', 'Si', 'K', 'Ca', 'Ba', 'Fe',\n",
       "         'Type_of_glass'],\n",
       "        dtype='object')},\n",
       " 'metadata': {'uci_id': 42,\n",
       "  'name': 'Glass Identification',\n",
       "  'repository_url': 'https://archive.ics.uci.edu/dataset/42/glass+identification',\n",
       "  'data_url': 'https://archive.ics.uci.edu/static/public/42/data.csv',\n",
       "  'abstract': 'From USA Forensic Science Service; 6 types of glass; defined in terms of their oxide content (i.e. Na, Fe, K, etc)',\n",
       "  'area': 'Physics and Chemistry',\n",
       "  'tasks': ['Classification'],\n",
       "  'characteristics': ['Multivariate'],\n",
       "  'num_instances': 214,\n",
       "  'num_features': 9,\n",
       "  'feature_types': ['Real'],\n",
       "  'demographics': [],\n",
       "  'target_col': ['Type_of_glass'],\n",
       "  'index_col': ['Id_number'],\n",
       "  'has_missing_values': 'no',\n",
       "  'missing_values_symbol': None,\n",
       "  'year_of_dataset_creation': 1987,\n",
       "  'last_updated': 'Thu Aug 10 2023',\n",
       "  'dataset_doi': '10.24432/C5WW2P',\n",
       "  'creators': ['B. German'],\n",
       "  'intro_paper': None,\n",
       "  'additional_info': {'summary': 'Vina conducted a comparison test of her rule-based system, BEAGLE, the nearest-neighbor algorithm, and discriminant analysis.  BEAGLE is a product available through VRS Consulting, Inc.; 4676 Admiralty Way, Suite 206; Marina Del Ray, CA 90292 (213) 827-7890 and FAX: -3189. In determining whether the glass was a type of \"float\" glass or not, the following results were obtained (# incorrect answers):\\r\\n\\r\\nType of Sample  -- Beagle -- NN -- DA\\r\\nWindows that were float processed (87)  -- 10 -- 12 -- 21\\r\\nWindows that were not:            (76) -- 19 -- 16 -- 22\\r\\n\\r\\nThe study of classification of types of glass was motivated by criminological investigation.  At the scene of the crime, the glass left can be used as evidence...if it is correctly identified!',\n",
       "   'purpose': None,\n",
       "   'funded_by': None,\n",
       "   'instances_represent': None,\n",
       "   'recommended_data_splits': None,\n",
       "   'sensitive_data': None,\n",
       "   'preprocessing_description': None,\n",
       "   'variable_info': '1. Id number: 1 to 214\\r\\n2. RI: refractive index\\r\\n3. Na: Sodium (unit measurement: weight percent in corresponding oxide, as are attributes 4-10)\\r\\n4. Mg: Magnesium\\r\\n5. Al: Aluminum\\r\\n6. Si: Silicon\\r\\n7. K: Potassium\\r\\n8. Ca: Calcium\\r\\n9. Ba: Barium\\r\\n10. Fe: Iron\\r\\n11. Type of glass: (class attribute)\\r\\n     -- 1 building_windows_float_processed\\r\\n     -- 2 building_windows_non_float_processed\\r\\n     -- 3 vehicle_windows_float_processed\\r\\n     -- 4 vehicle_windows_non_float_processed (none in this database)\\r\\n     -- 5 containers\\r\\n     -- 6 tableware\\r\\n     -- 7 headlamps',\n",
       "   'citation': None}},\n",
       " 'variables':              name     role         type demographic       description  \\\n",
       " 0       Id_number       ID      Integer        None              None   \n",
       " 1              RI  Feature   Continuous        None  refractive index   \n",
       " 2              Na  Feature   Continuous        None            Sodium   \n",
       " 3              Mg  Feature   Continuous        None         Magnesium   \n",
       " 4              Al  Feature   Continuous        None          Aluminum   \n",
       " 5              Si  Feature   Continuous        None           Silicon   \n",
       " 6               K  Feature   Continuous        None         Potassium   \n",
       " 7              Ca  Feature   Continuous        None           Calcium   \n",
       " 8              Ba  Feature   Continuous        None            Barium   \n",
       " 9              Fe  Feature   Continuous        None              Iron   \n",
       " 10  Type_of_glass   Target  Categorical        None              None   \n",
       " \n",
       "                                     units missing_values  \n",
       " 0                                    None             no  \n",
       " 1                                    None             no  \n",
       " 2   weight percent in corresponding oxide             no  \n",
       " 3   weight percent in corresponding oxide             no  \n",
       " 4   weight percent in corresponding oxide             no  \n",
       " 5   weight percent in corresponding oxide             no  \n",
       " 6   weight percent in corresponding oxide             no  \n",
       " 7   weight percent in corresponding oxide             no  \n",
       " 8   weight percent in corresponding oxide             no  \n",
       " 9   weight percent in corresponding oxide             no  \n",
       " 10                                   None             no  }"
      ]
     },
     "execution_count": 5,
     "metadata": {},
     "output_type": "execute_result"
    }
   ],
   "source": [
    "glass_identification"
   ]
  }
 ],
 "metadata": {
  "kernelspec": {
   "display_name": "Python 3",
   "language": "python",
   "name": "python3"
  },
  "language_info": {
   "codemirror_mode": {
    "name": "ipython",
    "version": 3
   },
   "file_extension": ".py",
   "mimetype": "text/x-python",
   "name": "python",
   "nbconvert_exporter": "python",
   "pygments_lexer": "ipython3",
   "version": "3.11.4"
  }
 },
 "nbformat": 4,
 "nbformat_minor": 2
}
